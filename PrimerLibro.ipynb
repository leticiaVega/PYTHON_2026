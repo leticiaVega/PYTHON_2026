{
 "cells": [
  {
   "cell_type": "markdown",
   "id": "55824e21",
   "metadata": {},
   "source": [
    "# Programación orientada a objetos (POO)"
   ]
  },
  {
   "cell_type": "markdown",
   "id": "fc5dbc0f",
   "metadata": {},
   "source": [
    "Aquí el alumno verá el consepto básicos de programación orientada a objetos"
   ]
  }
 ],
 "metadata": {
  "language_info": {
   "name": "python"
  }
 },
 "nbformat": 4,
 "nbformat_minor": 5
}
