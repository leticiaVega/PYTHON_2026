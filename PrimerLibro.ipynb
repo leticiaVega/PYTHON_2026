{
 "cells": [
  {
   "cell_type": "markdown",
   "id": "55824e21",
   "metadata": {},
   "source": [
    "# Programación orientada a objetos (POO)"
   ]
  },
  {
   "cell_type": "markdown",
   "id": "fc5dbc0f",
   "metadata": {},
   "source": [
    "Aquí el alumno verá el consepto básicos de programación orientada a objetos"
   ]
  },
  {
   "cell_type": "code",
   "execution_count": 1,
   "id": "e0e82bfb",
   "metadata": {},
   "outputs": [],
   "source": [
    "class mamifero():\n",
    "    #Atributos de la clase\n",
    "    vertebrado = True\n",
    "    amamanta = True\n",
    "    #Atributos de la instancia\n",
    "    alltura = 0\n",
    "    peso = 0\n",
    "    alimentacion = '' #carnivoro, ovnivoro, entre otros\n",
    "    progenia = 0\n"
   ]
  },
  {
   "cell_type": "code",
   "execution_count": null,
   "id": "9f7273e2",
   "metadata": {},
   "outputs": [
    {
     "data": {
      "text/plain": [
       "True"
      ]
     },
     "execution_count": 2,
     "metadata": {},
     "output_type": "execute_result"
    }
   ],
   "source": [
    "perro = mamifero()\n",
    "perro.vertebrado"
   ]
  },
  {
   "cell_type": "code",
   "execution_count": null,
   "id": "694ae5cd",
   "metadata": {},
   "outputs": [],
   "source": [
    "perro.alimentacion = 'carnivoro'\n",
    "perro.alltura = 43\n",
    "perro.peso = 6.1\n",
    "perro.progenia = 0\n",
    "print(El perro tiene )\n"
   ]
  },
  {
   "cell_type": "code",
   "execution_count": 6,
   "id": "ef865833",
   "metadata": {},
   "outputs": [
    {
     "name": "stdout",
     "output_type": "stream",
     "text": [
      "43 6.1 4\n"
     ]
    }
   ],
   "source": [
    "from random import choice,seed\n",
    "\n",
    "class mamifero():\n",
    "    #Atributos de la clase\n",
    "    vertebrado = True\n",
    "    amamanta = True\n",
    "    #Atributos de la instancia\n",
    "    alltura = 0\n",
    "    peso = 0\n",
    "    alimentacion = '' #carnivoro, ovnivoro, entre otros\n",
    "    progenia = 0\n",
    "    \n",
    "    def __init__(self, alimentacion, altura, peso, progenia=0):\n",
    "        self.alimentacion = alimentacion\n",
    "        self.altura = altura\n",
    "        self.peso = peso\n",
    "        self.progenia = progenia\n",
    "    \n",
    "    def reproducirse(self, max_progenia):\n",
    "        self.progenia += choice(range(max_progenia))\n",
    "    \n",
    "    def crecer(self,crecimiento):\n",
    "        self.altura += crecimiento\n",
    "        self.peso += creimiento * 0.4\n",
    "\n",
    "perro = mamifero(\"omnivoro\",43,6.1)\n",
    "perro.reproducirse(6)\n",
    "print(perro.altura,perro.peso,perro.progenia)\n",
    "    \n",
    "    \n",
    "    "
   ]
  }
 ],
 "metadata": {
  "kernelspec": {
   "display_name": "ete3",
   "language": "python",
   "name": "python3"
  },
  "language_info": {
   "codemirror_mode": {
    "name": "ipython",
    "version": 3
   },
   "file_extension": ".py",
   "mimetype": "text/x-python",
   "name": "python",
   "nbconvert_exporter": "python",
   "pygments_lexer": "ipython3",
   "version": "3.13.0"
  }
 },
 "nbformat": 4,
 "nbformat_minor": 5
}
